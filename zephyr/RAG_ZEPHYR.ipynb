{
  "nbformat": 4,
  "nbformat_minor": 0,
  "metadata": {
    "colab": {
      "provenance": [],
      "gpuType": "T4",
      "authorship_tag": "ABX9TyM0QbOJnaqBp5Ff/W300o9O",
      "include_colab_link": true
    },
    "kernelspec": {
      "name": "python3",
      "display_name": "Python 3"
    },
    "language_info": {
      "name": "python"
    },
    "accelerator": "GPU",
    "widgets": {
      "application/vnd.jupyter.widget-state+json": {
        "1f722749a7ec4a6ba99b05f2dccbab5c": {
          "model_module": "@jupyter-widgets/controls",
          "model_name": "HBoxModel",
          "model_module_version": "1.5.0",
          "state": {
            "_dom_classes": [],
            "_model_module": "@jupyter-widgets/controls",
            "_model_module_version": "1.5.0",
            "_model_name": "HBoxModel",
            "_view_count": null,
            "_view_module": "@jupyter-widgets/controls",
            "_view_module_version": "1.5.0",
            "_view_name": "HBoxView",
            "box_style": "",
            "children": [
              "IPY_MODEL_68ddc49f0af8415c8c8a05d0feb8b5cf",
              "IPY_MODEL_dc8508db6e014acd9a9ee0be5170962d",
              "IPY_MODEL_7dc81457a8f84205a070c730a01009bd"
            ],
            "layout": "IPY_MODEL_b24292d9fefa47f3bb6753de7d0737d0"
          }
        },
        "68ddc49f0af8415c8c8a05d0feb8b5cf": {
          "model_module": "@jupyter-widgets/controls",
          "model_name": "HTMLModel",
          "model_module_version": "1.5.0",
          "state": {
            "_dom_classes": [],
            "_model_module": "@jupyter-widgets/controls",
            "_model_module_version": "1.5.0",
            "_model_name": "HTMLModel",
            "_view_count": null,
            "_view_module": "@jupyter-widgets/controls",
            "_view_module_version": "1.5.0",
            "_view_name": "HTMLView",
            "description": "",
            "description_tooltip": null,
            "layout": "IPY_MODEL_f20514ab33ca4d1a9d11897ba159197e",
            "placeholder": "​",
            "style": "IPY_MODEL_8216b9cd697f4b2ca00ee13c08c76a8a",
            "value": "Loading checkpoint shards: 100%"
          }
        },
        "dc8508db6e014acd9a9ee0be5170962d": {
          "model_module": "@jupyter-widgets/controls",
          "model_name": "FloatProgressModel",
          "model_module_version": "1.5.0",
          "state": {
            "_dom_classes": [],
            "_model_module": "@jupyter-widgets/controls",
            "_model_module_version": "1.5.0",
            "_model_name": "FloatProgressModel",
            "_view_count": null,
            "_view_module": "@jupyter-widgets/controls",
            "_view_module_version": "1.5.0",
            "_view_name": "ProgressView",
            "bar_style": "success",
            "description": "",
            "description_tooltip": null,
            "layout": "IPY_MODEL_2c6fed60cfcf45babf83e3f2bce288b2",
            "max": 8,
            "min": 0,
            "orientation": "horizontal",
            "style": "IPY_MODEL_52a946e16f184c7fbc832a7334211130",
            "value": 8
          }
        },
        "7dc81457a8f84205a070c730a01009bd": {
          "model_module": "@jupyter-widgets/controls",
          "model_name": "HTMLModel",
          "model_module_version": "1.5.0",
          "state": {
            "_dom_classes": [],
            "_model_module": "@jupyter-widgets/controls",
            "_model_module_version": "1.5.0",
            "_model_name": "HTMLModel",
            "_view_count": null,
            "_view_module": "@jupyter-widgets/controls",
            "_view_module_version": "1.5.0",
            "_view_name": "HTMLView",
            "description": "",
            "description_tooltip": null,
            "layout": "IPY_MODEL_1a6040e1f1a3401b8cdc11233316d98a",
            "placeholder": "​",
            "style": "IPY_MODEL_ecc233f23cb94b5c9431d5f20c2e0890",
            "value": " 8/8 [00:47&lt;00:00,  4.39s/it]"
          }
        },
        "b24292d9fefa47f3bb6753de7d0737d0": {
          "model_module": "@jupyter-widgets/base",
          "model_name": "LayoutModel",
          "model_module_version": "1.2.0",
          "state": {
            "_model_module": "@jupyter-widgets/base",
            "_model_module_version": "1.2.0",
            "_model_name": "LayoutModel",
            "_view_count": null,
            "_view_module": "@jupyter-widgets/base",
            "_view_module_version": "1.2.0",
            "_view_name": "LayoutView",
            "align_content": null,
            "align_items": null,
            "align_self": null,
            "border": null,
            "bottom": null,
            "display": null,
            "flex": null,
            "flex_flow": null,
            "grid_area": null,
            "grid_auto_columns": null,
            "grid_auto_flow": null,
            "grid_auto_rows": null,
            "grid_column": null,
            "grid_gap": null,
            "grid_row": null,
            "grid_template_areas": null,
            "grid_template_columns": null,
            "grid_template_rows": null,
            "height": null,
            "justify_content": null,
            "justify_items": null,
            "left": null,
            "margin": null,
            "max_height": null,
            "max_width": null,
            "min_height": null,
            "min_width": null,
            "object_fit": null,
            "object_position": null,
            "order": null,
            "overflow": null,
            "overflow_x": null,
            "overflow_y": null,
            "padding": null,
            "right": null,
            "top": null,
            "visibility": null,
            "width": null
          }
        },
        "f20514ab33ca4d1a9d11897ba159197e": {
          "model_module": "@jupyter-widgets/base",
          "model_name": "LayoutModel",
          "model_module_version": "1.2.0",
          "state": {
            "_model_module": "@jupyter-widgets/base",
            "_model_module_version": "1.2.0",
            "_model_name": "LayoutModel",
            "_view_count": null,
            "_view_module": "@jupyter-widgets/base",
            "_view_module_version": "1.2.0",
            "_view_name": "LayoutView",
            "align_content": null,
            "align_items": null,
            "align_self": null,
            "border": null,
            "bottom": null,
            "display": null,
            "flex": null,
            "flex_flow": null,
            "grid_area": null,
            "grid_auto_columns": null,
            "grid_auto_flow": null,
            "grid_auto_rows": null,
            "grid_column": null,
            "grid_gap": null,
            "grid_row": null,
            "grid_template_areas": null,
            "grid_template_columns": null,
            "grid_template_rows": null,
            "height": null,
            "justify_content": null,
            "justify_items": null,
            "left": null,
            "margin": null,
            "max_height": null,
            "max_width": null,
            "min_height": null,
            "min_width": null,
            "object_fit": null,
            "object_position": null,
            "order": null,
            "overflow": null,
            "overflow_x": null,
            "overflow_y": null,
            "padding": null,
            "right": null,
            "top": null,
            "visibility": null,
            "width": null
          }
        },
        "8216b9cd697f4b2ca00ee13c08c76a8a": {
          "model_module": "@jupyter-widgets/controls",
          "model_name": "DescriptionStyleModel",
          "model_module_version": "1.5.0",
          "state": {
            "_model_module": "@jupyter-widgets/controls",
            "_model_module_version": "1.5.0",
            "_model_name": "DescriptionStyleModel",
            "_view_count": null,
            "_view_module": "@jupyter-widgets/base",
            "_view_module_version": "1.2.0",
            "_view_name": "StyleView",
            "description_width": ""
          }
        },
        "2c6fed60cfcf45babf83e3f2bce288b2": {
          "model_module": "@jupyter-widgets/base",
          "model_name": "LayoutModel",
          "model_module_version": "1.2.0",
          "state": {
            "_model_module": "@jupyter-widgets/base",
            "_model_module_version": "1.2.0",
            "_model_name": "LayoutModel",
            "_view_count": null,
            "_view_module": "@jupyter-widgets/base",
            "_view_module_version": "1.2.0",
            "_view_name": "LayoutView",
            "align_content": null,
            "align_items": null,
            "align_self": null,
            "border": null,
            "bottom": null,
            "display": null,
            "flex": null,
            "flex_flow": null,
            "grid_area": null,
            "grid_auto_columns": null,
            "grid_auto_flow": null,
            "grid_auto_rows": null,
            "grid_column": null,
            "grid_gap": null,
            "grid_row": null,
            "grid_template_areas": null,
            "grid_template_columns": null,
            "grid_template_rows": null,
            "height": null,
            "justify_content": null,
            "justify_items": null,
            "left": null,
            "margin": null,
            "max_height": null,
            "max_width": null,
            "min_height": null,
            "min_width": null,
            "object_fit": null,
            "object_position": null,
            "order": null,
            "overflow": null,
            "overflow_x": null,
            "overflow_y": null,
            "padding": null,
            "right": null,
            "top": null,
            "visibility": null,
            "width": null
          }
        },
        "52a946e16f184c7fbc832a7334211130": {
          "model_module": "@jupyter-widgets/controls",
          "model_name": "ProgressStyleModel",
          "model_module_version": "1.5.0",
          "state": {
            "_model_module": "@jupyter-widgets/controls",
            "_model_module_version": "1.5.0",
            "_model_name": "ProgressStyleModel",
            "_view_count": null,
            "_view_module": "@jupyter-widgets/base",
            "_view_module_version": "1.2.0",
            "_view_name": "StyleView",
            "bar_color": null,
            "description_width": ""
          }
        },
        "1a6040e1f1a3401b8cdc11233316d98a": {
          "model_module": "@jupyter-widgets/base",
          "model_name": "LayoutModel",
          "model_module_version": "1.2.0",
          "state": {
            "_model_module": "@jupyter-widgets/base",
            "_model_module_version": "1.2.0",
            "_model_name": "LayoutModel",
            "_view_count": null,
            "_view_module": "@jupyter-widgets/base",
            "_view_module_version": "1.2.0",
            "_view_name": "LayoutView",
            "align_content": null,
            "align_items": null,
            "align_self": null,
            "border": null,
            "bottom": null,
            "display": null,
            "flex": null,
            "flex_flow": null,
            "grid_area": null,
            "grid_auto_columns": null,
            "grid_auto_flow": null,
            "grid_auto_rows": null,
            "grid_column": null,
            "grid_gap": null,
            "grid_row": null,
            "grid_template_areas": null,
            "grid_template_columns": null,
            "grid_template_rows": null,
            "height": null,
            "justify_content": null,
            "justify_items": null,
            "left": null,
            "margin": null,
            "max_height": null,
            "max_width": null,
            "min_height": null,
            "min_width": null,
            "object_fit": null,
            "object_position": null,
            "order": null,
            "overflow": null,
            "overflow_x": null,
            "overflow_y": null,
            "padding": null,
            "right": null,
            "top": null,
            "visibility": null,
            "width": null
          }
        },
        "ecc233f23cb94b5c9431d5f20c2e0890": {
          "model_module": "@jupyter-widgets/controls",
          "model_name": "DescriptionStyleModel",
          "model_module_version": "1.5.0",
          "state": {
            "_model_module": "@jupyter-widgets/controls",
            "_model_module_version": "1.5.0",
            "_model_name": "DescriptionStyleModel",
            "_view_count": null,
            "_view_module": "@jupyter-widgets/base",
            "_view_module_version": "1.2.0",
            "_view_name": "StyleView",
            "description_width": ""
          }
        }
      }
    }
  },
  "cells": [
    {
      "cell_type": "markdown",
      "metadata": {
        "id": "view-in-github",
        "colab_type": "text"
      },
      "source": [
        "<a href=\"https://colab.research.google.com/github/ambarishg/open-source-llms/blob/main/RAG_ZEPHYR.ipynb\" target=\"_parent\"><img src=\"https://colab.research.google.com/assets/colab-badge.svg\" alt=\"Open In Colab\"/></a>"
      ]
    },
    {
      "cell_type": "code",
      "execution_count": 1,
      "metadata": {
        "colab": {
          "base_uri": "https://localhost:8080/"
        },
        "id": "jn_GdhfnlONA",
        "outputId": "dc129a83-0e81-4594-a3ef-54b63b22bb52"
      },
      "outputs": [
        {
          "output_type": "stream",
          "name": "stdout",
          "text": [
            "Requirement already satisfied: qdrant-client in /usr/local/lib/python3.10/dist-packages (1.7.0)\n",
            "Requirement already satisfied: sentence-transformers in /usr/local/lib/python3.10/dist-packages (2.2.2)\n",
            "Requirement already satisfied: accelerate in /usr/local/lib/python3.10/dist-packages (0.25.0)\n",
            "Requirement already satisfied: grpcio>=1.41.0 in /usr/local/lib/python3.10/dist-packages (from qdrant-client) (1.60.0)\n",
            "Requirement already satisfied: grpcio-tools>=1.41.0 in /usr/local/lib/python3.10/dist-packages (from qdrant-client) (1.60.0)\n",
            "Requirement already satisfied: httpx[http2]>=0.14.0 in /usr/local/lib/python3.10/dist-packages (from qdrant-client) (0.25.2)\n",
            "Requirement already satisfied: numpy>=1.21 in /usr/local/lib/python3.10/dist-packages (from qdrant-client) (1.23.5)\n",
            "Requirement already satisfied: portalocker<3.0.0,>=2.7.0 in /usr/local/lib/python3.10/dist-packages (from qdrant-client) (2.8.2)\n",
            "Requirement already satisfied: pydantic>=1.10.8 in /usr/local/lib/python3.10/dist-packages (from qdrant-client) (1.10.13)\n",
            "Requirement already satisfied: urllib3<2.0.0,>=1.26.14 in /usr/local/lib/python3.10/dist-packages (from qdrant-client) (1.26.18)\n",
            "Requirement already satisfied: transformers<5.0.0,>=4.6.0 in /usr/local/lib/python3.10/dist-packages (from sentence-transformers) (4.35.2)\n",
            "Requirement already satisfied: tqdm in /usr/local/lib/python3.10/dist-packages (from sentence-transformers) (4.66.1)\n",
            "Requirement already satisfied: torch>=1.6.0 in /usr/local/lib/python3.10/dist-packages (from sentence-transformers) (2.1.0+cu118)\n",
            "Requirement already satisfied: torchvision in /usr/local/lib/python3.10/dist-packages (from sentence-transformers) (0.16.0+cu118)\n",
            "Requirement already satisfied: scikit-learn in /usr/local/lib/python3.10/dist-packages (from sentence-transformers) (1.2.2)\n",
            "Requirement already satisfied: scipy in /usr/local/lib/python3.10/dist-packages (from sentence-transformers) (1.11.4)\n",
            "Requirement already satisfied: nltk in /usr/local/lib/python3.10/dist-packages (from sentence-transformers) (3.8.1)\n",
            "Requirement already satisfied: sentencepiece in /usr/local/lib/python3.10/dist-packages (from sentence-transformers) (0.1.99)\n",
            "Requirement already satisfied: huggingface-hub>=0.4.0 in /usr/local/lib/python3.10/dist-packages (from sentence-transformers) (0.19.4)\n",
            "Requirement already satisfied: packaging>=20.0 in /usr/local/lib/python3.10/dist-packages (from accelerate) (23.2)\n",
            "Requirement already satisfied: psutil in /usr/local/lib/python3.10/dist-packages (from accelerate) (5.9.5)\n",
            "Requirement already satisfied: pyyaml in /usr/local/lib/python3.10/dist-packages (from accelerate) (6.0.1)\n",
            "Requirement already satisfied: safetensors>=0.3.1 in /usr/local/lib/python3.10/dist-packages (from accelerate) (0.4.1)\n",
            "Requirement already satisfied: protobuf<5.0dev,>=4.21.6 in /usr/local/lib/python3.10/dist-packages (from grpcio-tools>=1.41.0->qdrant-client) (4.25.1)\n",
            "Requirement already satisfied: setuptools in /usr/local/lib/python3.10/dist-packages (from grpcio-tools>=1.41.0->qdrant-client) (67.7.2)\n",
            "Requirement already satisfied: anyio in /usr/local/lib/python3.10/dist-packages (from httpx[http2]>=0.14.0->qdrant-client) (3.7.1)\n",
            "Requirement already satisfied: certifi in /usr/local/lib/python3.10/dist-packages (from httpx[http2]>=0.14.0->qdrant-client) (2023.11.17)\n",
            "Requirement already satisfied: httpcore==1.* in /usr/local/lib/python3.10/dist-packages (from httpx[http2]>=0.14.0->qdrant-client) (1.0.2)\n",
            "Requirement already satisfied: idna in /usr/local/lib/python3.10/dist-packages (from httpx[http2]>=0.14.0->qdrant-client) (3.6)\n",
            "Requirement already satisfied: sniffio in /usr/local/lib/python3.10/dist-packages (from httpx[http2]>=0.14.0->qdrant-client) (1.3.0)\n",
            "Requirement already satisfied: h2<5,>=3 in /usr/local/lib/python3.10/dist-packages (from httpx[http2]>=0.14.0->qdrant-client) (4.1.0)\n",
            "Requirement already satisfied: h11<0.15,>=0.13 in /usr/local/lib/python3.10/dist-packages (from httpcore==1.*->httpx[http2]>=0.14.0->qdrant-client) (0.14.0)\n",
            "Requirement already satisfied: filelock in /usr/local/lib/python3.10/dist-packages (from huggingface-hub>=0.4.0->sentence-transformers) (3.13.1)\n",
            "Requirement already satisfied: fsspec>=2023.5.0 in /usr/local/lib/python3.10/dist-packages (from huggingface-hub>=0.4.0->sentence-transformers) (2023.6.0)\n",
            "Requirement already satisfied: requests in /usr/local/lib/python3.10/dist-packages (from huggingface-hub>=0.4.0->sentence-transformers) (2.31.0)\n",
            "Requirement already satisfied: typing-extensions>=3.7.4.3 in /usr/local/lib/python3.10/dist-packages (from huggingface-hub>=0.4.0->sentence-transformers) (4.5.0)\n",
            "Requirement already satisfied: sympy in /usr/local/lib/python3.10/dist-packages (from torch>=1.6.0->sentence-transformers) (1.12)\n",
            "Requirement already satisfied: networkx in /usr/local/lib/python3.10/dist-packages (from torch>=1.6.0->sentence-transformers) (3.2.1)\n",
            "Requirement already satisfied: jinja2 in /usr/local/lib/python3.10/dist-packages (from torch>=1.6.0->sentence-transformers) (3.1.2)\n",
            "Requirement already satisfied: triton==2.1.0 in /usr/local/lib/python3.10/dist-packages (from torch>=1.6.0->sentence-transformers) (2.1.0)\n",
            "Requirement already satisfied: regex!=2019.12.17 in /usr/local/lib/python3.10/dist-packages (from transformers<5.0.0,>=4.6.0->sentence-transformers) (2023.6.3)\n",
            "Requirement already satisfied: tokenizers<0.19,>=0.14 in /usr/local/lib/python3.10/dist-packages (from transformers<5.0.0,>=4.6.0->sentence-transformers) (0.15.0)\n",
            "Requirement already satisfied: click in /usr/local/lib/python3.10/dist-packages (from nltk->sentence-transformers) (8.1.7)\n",
            "Requirement already satisfied: joblib in /usr/local/lib/python3.10/dist-packages (from nltk->sentence-transformers) (1.3.2)\n",
            "Requirement already satisfied: threadpoolctl>=2.0.0 in /usr/local/lib/python3.10/dist-packages (from scikit-learn->sentence-transformers) (3.2.0)\n",
            "Requirement already satisfied: pillow!=8.3.*,>=5.3.0 in /usr/local/lib/python3.10/dist-packages (from torchvision->sentence-transformers) (9.4.0)\n",
            "Requirement already satisfied: hyperframe<7,>=6.0 in /usr/local/lib/python3.10/dist-packages (from h2<5,>=3->httpx[http2]>=0.14.0->qdrant-client) (6.0.1)\n",
            "Requirement already satisfied: hpack<5,>=4.0 in /usr/local/lib/python3.10/dist-packages (from h2<5,>=3->httpx[http2]>=0.14.0->qdrant-client) (4.0.0)\n",
            "Requirement already satisfied: exceptiongroup in /usr/local/lib/python3.10/dist-packages (from anyio->httpx[http2]>=0.14.0->qdrant-client) (1.2.0)\n",
            "Requirement already satisfied: MarkupSafe>=2.0 in /usr/local/lib/python3.10/dist-packages (from jinja2->torch>=1.6.0->sentence-transformers) (2.1.3)\n",
            "Requirement already satisfied: charset-normalizer<4,>=2 in /usr/local/lib/python3.10/dist-packages (from requests->huggingface-hub>=0.4.0->sentence-transformers) (3.3.2)\n",
            "Requirement already satisfied: mpmath>=0.19 in /usr/local/lib/python3.10/dist-packages (from sympy->torch>=1.6.0->sentence-transformers) (1.3.0)\n"
          ]
        }
      ],
      "source": [
        "%pip install qdrant-client sentence-transformers accelerate"
      ]
    },
    {
      "cell_type": "code",
      "source": [
        "from transformers import BitsAndBytesConfig\n",
        "import torch"
      ],
      "metadata": {
        "id": "hxWvtEl3DBbx"
      },
      "execution_count": 2,
      "outputs": []
    },
    {
      "cell_type": "code",
      "source": [
        "# Qdrant server URL\n",
        "URL =\"20.119.32.168\"\n",
        "# Qdrant dimension of the collection\n",
        "DIMENSION = 384\n",
        "# Qdrant collection name\n",
        "COLLECTION_NAME = \"SEARCH_ENGINE\"\n",
        "METRIC_NAME =\"COSINE\"\n",
        "MODEL_NAME=\"all-MiniLM-L6-v2\""
      ],
      "metadata": {
        "id": "sWBYigOLl6r1"
      },
      "execution_count": 3,
      "outputs": []
    },
    {
      "cell_type": "code",
      "source": [
        "import qdrant_client as qc\n",
        "import qdrant_client.http.models as qmodels\n",
        "from qdrant_client.http.models import *"
      ],
      "metadata": {
        "id": "BRui0D3-mH0x"
      },
      "execution_count": 4,
      "outputs": []
    },
    {
      "cell_type": "code",
      "source": [
        "from sentence_transformers import SentenceTransformer"
      ],
      "metadata": {
        "id": "dft-crhjnS6Y"
      },
      "execution_count": 5,
      "outputs": []
    },
    {
      "cell_type": "code",
      "source": [
        "import torch\n",
        "from transformers import pipeline"
      ],
      "metadata": {
        "id": "eLIgA999qaoH"
      },
      "execution_count": 6,
      "outputs": []
    },
    {
      "cell_type": "code",
      "source": [
        "user_input = \"Describe Platyhelminthes\"\n",
        "query_filter =  None"
      ],
      "metadata": {
        "id": "ReGF-F_RndQW"
      },
      "execution_count": 7,
      "outputs": []
    },
    {
      "cell_type": "code",
      "source": [
        "def get_qdrant_client():\n",
        "    client = qc.QdrantClient(url=URL)\n",
        "    METRIC = qmodels.Distance.COSINE\n",
        "    return client"
      ],
      "metadata": {
        "id": "1yOjAtlFmUad"
      },
      "execution_count": 8,
      "outputs": []
    },
    {
      "cell_type": "code",
      "source": [
        "client = get_qdrant_client()"
      ],
      "metadata": {
        "id": "MIgBIm8AmY4Z"
      },
      "execution_count": 9,
      "outputs": []
    },
    {
      "cell_type": "code",
      "source": [
        "client"
      ],
      "metadata": {
        "colab": {
          "base_uri": "https://localhost:8080/"
        },
        "id": "YLv6DD_smbW_",
        "outputId": "47033312-0678-4808-e3db-a23ee1685f01"
      },
      "execution_count": 10,
      "outputs": [
        {
          "output_type": "execute_result",
          "data": {
            "text/plain": [
              "<qdrant_client.qdrant_client.QdrantClient at 0x7f800c52dc90>"
            ]
          },
          "metadata": {},
          "execution_count": 10
        }
      ]
    },
    {
      "cell_type": "code",
      "source": [
        "def load_model():\n",
        "    return SentenceTransformer(MODEL_NAME)"
      ],
      "metadata": {
        "id": "EiTbDUTNmcl_"
      },
      "execution_count": 11,
      "outputs": []
    },
    {
      "cell_type": "code",
      "source": [
        "model = load_model()\n",
        "xq = model.encode(user_input,convert_to_tensor=True)"
      ],
      "metadata": {
        "id": "_r32ui29nYYf"
      },
      "execution_count": 12,
      "outputs": []
    },
    {
      "cell_type": "code",
      "source": [
        "xq"
      ],
      "metadata": {
        "colab": {
          "base_uri": "https://localhost:8080/"
        },
        "id": "UvDlHOrZnuOZ",
        "outputId": "d27e1819-8ce2-463e-8f93-f9c059eaa648"
      },
      "execution_count": 13,
      "outputs": [
        {
          "output_type": "execute_result",
          "data": {
            "text/plain": [
              "tensor([-1.1949e-02,  7.3089e-02,  3.0627e-03, -1.5451e-03, -5.1068e-02,\n",
              "         1.5868e-02,  4.4833e-03,  5.5065e-02, -3.6888e-02, -3.5290e-02,\n",
              "         6.5472e-03, -1.0810e-01,  6.8254e-02,  3.8157e-02, -7.4797e-02,\n",
              "         1.8154e-02, -8.7613e-03, -4.9936e-02,  5.8443e-04, -2.5256e-02,\n",
              "         4.7975e-02,  4.8023e-02,  9.4440e-03, -1.1230e-02, -7.0084e-02,\n",
              "         2.9223e-02, -7.1057e-02,  2.5630e-02,  2.6364e-02, -5.6030e-02,\n",
              "        -3.0597e-03, -2.0097e-02, -1.7338e-02,  1.1662e-02,  4.1360e-02,\n",
              "         4.7449e-02,  5.9810e-02,  5.9318e-02, -8.5401e-03,  4.5458e-02,\n",
              "         2.5633e-02,  8.2683e-02, -6.4137e-02,  3.6973e-02, -7.0319e-02,\n",
              "        -1.0289e-01, -2.8695e-02, -1.1400e-03, -4.8947e-02,  4.9783e-03,\n",
              "        -1.1375e-02, -7.3111e-02, -5.6699e-02,  1.0431e-01,  3.7963e-02,\n",
              "         1.2424e-02, -6.7410e-02, -6.1781e-03, -1.4287e-02, -5.5694e-02,\n",
              "        -4.2496e-02,  4.4448e-02,  9.6283e-02,  5.0947e-03, -6.0253e-02,\n",
              "         1.7857e-02, -6.6891e-02, -1.8490e-02, -1.5759e-02,  7.3795e-03,\n",
              "         1.6164e-02, -1.7637e-02, -2.6312e-02,  3.9646e-03, -2.9743e-02,\n",
              "        -3.7740e-02, -2.2209e-02, -9.3340e-02, -3.2572e-02,  5.7570e-02,\n",
              "        -9.2189e-02, -5.3542e-03, -3.8601e-02, -8.1201e-03,  7.4889e-03,\n",
              "        -3.4976e-02,  5.8502e-02,  4.7476e-02, -7.0546e-02, -5.6020e-02,\n",
              "         4.7878e-02, -5.9961e-02, -1.6620e-02, -1.8505e-02, -1.0972e-02,\n",
              "         3.7531e-02, -5.0745e-02, -5.6608e-02, -1.9778e-02,  7.2812e-03,\n",
              "        -7.8312e-03, -1.0574e-01,  2.9178e-03, -3.5080e-03, -4.7505e-02,\n",
              "        -3.5484e-02,  1.5302e-03,  5.9427e-02, -4.6404e-02, -7.5070e-02,\n",
              "        -2.4922e-02,  1.4136e-02,  3.3888e-03,  8.8282e-02,  2.3859e-02,\n",
              "         7.9109e-03, -3.8540e-02, -4.2892e-02, -2.7960e-03, -7.8134e-02,\n",
              "         5.8374e-02,  5.5618e-02,  2.1715e-02, -2.8766e-03,  5.2685e-02,\n",
              "        -4.2527e-02, -8.0184e-02, -7.1333e-34,  7.6869e-03, -3.1636e-03,\n",
              "         2.3066e-02, -9.0201e-02, -1.3135e-02, -4.8760e-02, -2.2345e-02,\n",
              "         1.0462e-01,  2.8356e-02,  8.8597e-02, -7.9032e-02, -4.0649e-03,\n",
              "         3.8272e-02,  7.1962e-02, -1.3957e-02, -7.7868e-02,  1.0533e-02,\n",
              "         3.5942e-02, -2.2347e-02,  7.1737e-03, -4.6769e-03,  1.2790e-01,\n",
              "         3.1947e-02, -3.6338e-02,  2.9446e-02,  6.4645e-02, -5.6310e-03,\n",
              "        -6.0351e-02,  4.6939e-02,  2.2157e-02,  9.0762e-02, -5.4670e-02,\n",
              "        -3.6589e-02,  4.0270e-02,  2.1359e-03,  7.8769e-02, -7.2022e-02,\n",
              "        -5.4395e-02, -5.0794e-04,  1.7438e-02, -1.6834e-02, -7.4301e-02,\n",
              "        -2.8903e-02,  7.3703e-03,  1.1065e-01, -4.0943e-02, -6.8853e-03,\n",
              "         5.9963e-02, -2.4282e-02, -2.7014e-03,  1.3882e-02,  5.0348e-02,\n",
              "         9.6415e-02,  6.4868e-02, -2.5907e-02,  1.0785e-01,  9.4596e-03,\n",
              "        -2.3940e-02, -1.3341e-02,  2.3994e-03,  9.7102e-02,  1.3556e-02,\n",
              "        -3.7818e-02, -9.4054e-02,  6.2584e-02, -4.2343e-02, -3.0533e-02,\n",
              "         2.9942e-02, -4.3705e-02,  2.5588e-02,  2.1562e-02,  1.4007e-02,\n",
              "        -9.9869e-02,  6.1391e-02,  6.6109e-02, -6.8940e-02, -1.3112e-03,\n",
              "         6.2921e-02, -5.9923e-03, -1.3429e-02,  6.5713e-02, -2.6533e-02,\n",
              "         3.8547e-02, -4.0060e-02, -1.0965e-01,  1.4877e-02, -1.6270e-02,\n",
              "         4.8930e-02,  5.0641e-02,  3.9802e-02,  1.6241e-02, -1.6773e-02,\n",
              "         4.7368e-03, -7.9019e-02, -4.0073e-02, -4.7093e-34,  4.8181e-02,\n",
              "        -4.1938e-02,  2.0749e-02, -7.8731e-03,  5.1400e-03,  5.6818e-02,\n",
              "        -4.0757e-02,  1.7509e-01, -6.0004e-02,  6.9328e-02, -5.3184e-02,\n",
              "         2.0336e-02, -1.3361e-02, -8.6910e-02,  1.5035e-02,  4.2658e-02,\n",
              "         1.5796e-02,  1.6121e-02,  5.5180e-02, -3.8676e-02, -1.1531e-01,\n",
              "         5.9976e-02, -3.3305e-02, -2.1771e-02,  2.2034e-02,  2.1543e-02,\n",
              "         5.4637e-02,  6.8655e-04, -4.4623e-02, -6.1503e-02,  2.8414e-02,\n",
              "        -2.9910e-02, -4.5819e-02, -5.7417e-02,  2.1611e-02, -1.0125e-02,\n",
              "        -2.7860e-02, -2.3619e-02, -1.1658e-02,  1.9402e-02, -1.3055e-02,\n",
              "         7.1554e-03,  5.4561e-02,  1.2277e-01,  7.1000e-02,  7.2294e-02,\n",
              "        -7.2829e-02,  3.9718e-02,  2.1358e-02, -2.1405e-02, -8.6611e-02,\n",
              "         4.8381e-02,  7.2235e-02, -1.2124e-01,  8.0496e-02, -6.7768e-02,\n",
              "        -6.6259e-02, -7.4498e-02,  9.7413e-02, -8.8605e-02,  1.2874e-02,\n",
              "        -1.0619e-01, -6.2397e-02,  5.4721e-02,  3.0241e-02, -5.3508e-02,\n",
              "        -6.4251e-02, -3.2975e-02, -2.2613e-02,  1.9877e-02,  5.1624e-02,\n",
              "        -1.0798e-01, -5.0984e-02, -6.5962e-02,  5.8904e-03,  2.0587e-02,\n",
              "        -7.1033e-02, -3.2080e-02,  1.0495e-01,  2.7780e-02,  7.7154e-02,\n",
              "        -1.3231e-02,  6.9101e-02, -5.7643e-02,  1.3442e-02, -3.3976e-02,\n",
              "         1.9150e-02,  8.3780e-02, -3.5925e-02, -1.0986e-02, -2.2996e-02,\n",
              "         1.8008e-02,  4.8862e-02,  6.7112e-02,  5.6898e-02, -1.7626e-08,\n",
              "         1.4619e-01,  2.3029e-02, -3.4557e-02, -5.6874e-03, -3.1296e-02,\n",
              "        -4.5851e-02, -3.9300e-02,  1.5936e-02, -1.2104e-03, -2.1923e-02,\n",
              "        -3.1796e-02, -5.3162e-02,  6.6121e-03,  4.0179e-02,  2.3633e-02,\n",
              "         6.8704e-02,  2.4870e-03, -7.3739e-03,  2.5950e-02,  3.9663e-02,\n",
              "        -7.6062e-02,  2.7357e-02, -2.8592e-02,  6.7685e-02,  1.9233e-02,\n",
              "         4.2325e-02, -1.6707e-02, -4.0416e-02, -2.1732e-02,  3.3867e-02,\n",
              "        -1.9531e-02,  6.3167e-02, -1.1304e-02, -4.2181e-02, -8.7139e-03,\n",
              "         1.0728e-01, -2.0469e-02, -6.0846e-04,  1.3827e-01, -5.2764e-02,\n",
              "         4.9943e-02,  5.3601e-02,  8.1738e-02,  3.3495e-03,  7.8022e-02,\n",
              "        -4.5498e-02,  2.8707e-02, -1.7508e-02, -3.6803e-03, -7.8186e-02,\n",
              "        -3.5685e-02,  2.2914e-03, -5.4231e-03, -1.5391e-02, -3.8317e-02,\n",
              "        -2.4894e-02,  2.5739e-03, -7.6077e-02, -6.1129e-02,  4.0540e-02,\n",
              "         7.4204e-03,  2.8789e-02,  6.4490e-02,  6.9765e-02], device='cuda:0')"
            ]
          },
          "metadata": {},
          "execution_count": 13
        }
      ]
    },
    {
      "cell_type": "code",
      "source": [
        "search_result = client.search(collection_name=COLLECTION_NAME,\n",
        "                                    query_vector=xq.tolist(),\n",
        "                                    query_filter=query_filter,\n",
        "                                    limit=5)"
      ],
      "metadata": {
        "id": "LihwIm4enw1O"
      },
      "execution_count": 14,
      "outputs": []
    },
    {
      "cell_type": "code",
      "source": [
        "search_result"
      ],
      "metadata": {
        "colab": {
          "base_uri": "https://localhost:8080/"
        },
        "id": "d3yeNuEPn8cv",
        "outputId": "28af5596-fce6-4a8d-fac4-dd68adb92b02"
      },
      "execution_count": 15,
      "outputs": [
        {
          "output_type": "execute_result",
          "data": {
            "text/plain": [
              "[ScoredPoint(id='609555e6-6f9b-42cb-9bdc-b58c58c2d775', version=0, score=0.7078419, payload={'filename': 'Chap04AnimalKingdom.pdf', 'token': '9 Examples of Platyhelminthes : (a) Tape worm (b) Liver fluke\\nRationalised 2023-24\\nANIMAL KINGDOM 4343\\n4.2.5 Phylum – Aschelminthes\\nThe body of the aschelminthes is circular in\\ncross-section, hence, the name roundworms\\n(Figure 4.10). They may be freeliving, aquatic\\nand terrestrial or parasitic in plants and animals.\\nRoundworms have organ-system level of body\\norganisation. They are bilaterally symmetrical,\\ntriploblastic and pseudocoelomate animals', 'type': 'pdf'}, vector=None, shard_key=None),\n",
              " ScoredPoint(id='72be533c-020e-4590-8609-083ad4c810ef', version=0, score=0.6169232, payload={'filename': 'Chap04AnimalKingdom.pdf', 'token': ' Reproduction takes place only by sexual\\nmeans. Fertilisation is external with indirect development.\\nExamples: Pleurobrachia  and Ctenoplana .\\n4.2.4 Phylum – Platyhelminthes\\nThey have dorso-ventrally flattened body, hence are called\\nflatworms (Figure 4.9). These are mostly endoparasites found\\nin animals including human beings. Flatworms are bilaterally\\nsymmetrical, triploblastic and acoelomate animals with organ\\nlevel of organisation. Hooks and suckers are present in the\\nparasitic forms', 'type': 'pdf'}, vector=None, shard_key=None),\n",
              " ScoredPoint(id='3fc5c558-3743-4a06-8b44-8f0371463070', version=0, score=0.5196364, payload={'filename': 'Chap04AnimalKingdom.pdf', 'token': '\\nPorifera includes multicellular animals which exhibit cellular level of\\norganisation and have characteristic flagellated choanocytes. The\\ncoelenterates have tentacles and bear cnidoblasts. They are mostly aquatic,\\nsessile or free-floating. The ctenophores are marine animals with comb\\nplates. The platyhelminths have flat body and exhibit bilateral symmetry.\\nThe parasitic forms show distinct suckers and hooks', 'type': 'pdf'}, vector=None, shard_key=None),\n",
              " ScoredPoint(id='ec3375d4-e259-4363-abda-efe2441b0e5d', version=0, score=0.46744362, payload={'filename': 'Chap04AnimalKingdom.pdf', 'token': ' Aschelminthes are\\npseudocoelomates and  include parasitic as well as non-parasitic\\nroundworms.\\nAnnelids are metamerically segmented animals with a true coelom.\\nThe arthropods are the most abundant group of animals characterised\\nby the presence of jointed appendages. The molluscs have a soft body\\nsurrounded by an external calcareous shell. The body is covered with\\nexternal skeleton made of chitin. The echinoderms possess a spiny skin', 'type': 'pdf'}, vector=None, shard_key=None),\n",
              " ScoredPoint(id='52bf77d7-a425-45e8-951b-fa67d0d5410e', version=0, score=0.44159263, payload={'filename': 'Chap04AnimalKingdom.pdf', 'token': ' For example, the digestive system\\nin Platyhelminthes has only a single opening\\nto the outside of the body that serves as both\\nmouth and anus, and is hence called\\nincomplete.  A complete digestive system has\\ntwo openings, mouth and anus', 'type': 'pdf'}, vector=None, shard_key=None)]"
            ]
          },
          "metadata": {},
          "execution_count": 15
        }
      ]
    },
    {
      "cell_type": "code",
      "source": [
        "contexts =\"\"\n",
        "for result in search_result:\n",
        "    contexts +=  result.payload['token']+\"\\n---\\n\""
      ],
      "metadata": {
        "id": "463O_6JMn-Wy"
      },
      "execution_count": 16,
      "outputs": []
    },
    {
      "cell_type": "code",
      "source": [
        "contexts"
      ],
      "metadata": {
        "colab": {
          "base_uri": "https://localhost:8080/",
          "height": 123
        },
        "id": "so6zSsR2oEp_",
        "outputId": "f132fc37-f4bc-4a97-cba9-2179fbb679b4"
      },
      "execution_count": 17,
      "outputs": [
        {
          "output_type": "execute_result",
          "data": {
            "text/plain": [
              "'9 Examples of Platyhelminthes : (a) Tape worm (b) Liver fluke\\nRationalised 2023-24\\nANIMAL KINGDOM 4343\\n4.2.5 Phylum – Aschelminthes\\nThe body of the aschelminthes is circular in\\ncross-section, hence, the name roundworms\\n(Figure 4.10). They may be freeliving, aquatic\\nand terrestrial or parasitic in plants and animals.\\nRoundworms have organ-system level of body\\norganisation. They are bilaterally symmetrical,\\ntriploblastic and pseudocoelomate animals\\n---\\n Reproduction takes place only by sexual\\nmeans. Fertilisation is external with indirect development.\\nExamples: Pleurobrachia  and Ctenoplana .\\n4.2.4 Phylum – Platyhelminthes\\nThey have dorso-ventrally flattened body, hence are called\\nflatworms (Figure 4.9). These are mostly endoparasites found\\nin animals including human beings. Flatworms are bilaterally\\nsymmetrical, triploblastic and acoelomate animals with organ\\nlevel of organisation. Hooks and suckers are present in the\\nparasitic forms\\n---\\n\\nPorifera includes multicellular animals which exhibit cellular level of\\norganisation and have characteristic flagellated choanocytes. The\\ncoelenterates have tentacles and bear cnidoblasts. They are mostly aquatic,\\nsessile or free-floating. The ctenophores are marine animals with comb\\nplates. The platyhelminths have flat body and exhibit bilateral symmetry.\\nThe parasitic forms show distinct suckers and hooks\\n---\\n Aschelminthes are\\npseudocoelomates and  include parasitic as well as non-parasitic\\nroundworms.\\nAnnelids are metamerically segmented animals with a true coelom.\\nThe arthropods are the most abundant group of animals characterised\\nby the presence of jointed appendages. The molluscs have a soft body\\nsurrounded by an external calcareous shell. The body is covered with\\nexternal skeleton made of chitin. The echinoderms possess a spiny skin\\n---\\n For example, the digestive system\\nin Platyhelminthes has only a single opening\\nto the outside of the body that serves as both\\nmouth and anus, and is hence called\\nincomplete.  A complete digestive system has\\ntwo openings, mouth and anus\\n---\\n'"
            ],
            "application/vnd.google.colaboratory.intrinsic+json": {
              "type": "string"
            }
          },
          "metadata": {},
          "execution_count": 17
        }
      ]
    },
    {
      "cell_type": "code",
      "source": [
        "# Install transformers from source - only needed for versions <= v4.34\n",
        "# pip install git+https://github.com/huggingface/transformers.git\n",
        "# pip install accelerate\n",
        "\n",
        "pipe = pipeline(\"text-generation\",\n",
        "                model=\"HuggingFaceH4/zephyr-7b-beta\",\n",
        "                torch_dtype=torch.bfloat16,\n",
        "                device_map=\"auto\")\n"
      ],
      "metadata": {
        "colab": {
          "base_uri": "https://localhost:8080/",
          "height": 66,
          "referenced_widgets": [
            "1f722749a7ec4a6ba99b05f2dccbab5c",
            "68ddc49f0af8415c8c8a05d0feb8b5cf",
            "dc8508db6e014acd9a9ee0be5170962d",
            "7dc81457a8f84205a070c730a01009bd",
            "b24292d9fefa47f3bb6753de7d0737d0",
            "f20514ab33ca4d1a9d11897ba159197e",
            "8216b9cd697f4b2ca00ee13c08c76a8a",
            "2c6fed60cfcf45babf83e3f2bce288b2",
            "52a946e16f184c7fbc832a7334211130",
            "1a6040e1f1a3401b8cdc11233316d98a",
            "ecc233f23cb94b5c9431d5f20c2e0890"
          ]
        },
        "id": "5WfSIu4coGV2",
        "outputId": "ab54cf55-f042-4442-d212-3bcd7df7f700"
      },
      "execution_count": 18,
      "outputs": [
        {
          "output_type": "display_data",
          "data": {
            "text/plain": [
              "Loading checkpoint shards:   0%|          | 0/8 [00:00<?, ?it/s]"
            ],
            "application/vnd.jupyter.widget-view+json": {
              "version_major": 2,
              "version_minor": 0,
              "model_id": "1f722749a7ec4a6ba99b05f2dccbab5c"
            }
          },
          "metadata": {}
        },
        {
          "output_type": "stream",
          "name": "stderr",
          "text": [
            "WARNING:root:Some parameters are on the meta device device because they were offloaded to the cpu.\n"
          ]
        }
      ]
    },
    {
      "cell_type": "code",
      "source": [
        "\n",
        "# We use the tokenizer's chat template to format each message - see https://huggingface.co/docs/transformers/main/en/chat_templating\n",
        "messages = [\n",
        "    {\n",
        "        \"role\": \"system\",\n",
        "        \"content\": \"You are a friendly chatbot who always responds in the style of a pirate\",\n",
        "    },\n",
        "    {\"role\": \"user\", \"content\": contexts},\n",
        "]\n",
        "prompt = pipe.tokenizer.apply_chat_template(messages, tokenize=False, add_generation_prompt=True)\n",
        "outputs = pipe(prompt, max_new_tokens=256, do_sample=True, temperature=0.7, top_k=50, top_p=0.95)\n",
        "print(outputs[0][\"generated_text\"])"
      ],
      "metadata": {
        "colab": {
          "base_uri": "https://localhost:8080/"
        },
        "id": "DUW13NdgrCo6",
        "outputId": "7f222277-6335-41f6-dcd8-11fd72b63657"
      },
      "execution_count": 19,
      "outputs": [
        {
          "output_type": "stream",
          "name": "stderr",
          "text": [
            "/usr/local/lib/python3.10/dist-packages/transformers/generation/utils.py:1473: UserWarning: You have modified the pretrained model configuration to control generation. This is a deprecated strategy to control generation and will be removed soon, in a future version. Please use and modify the model generation configuration (see https://huggingface.co/docs/transformers/generation_strategies#default-text-generation-configuration )\n",
            "  warnings.warn(\n"
          ]
        },
        {
          "output_type": "stream",
          "name": "stdout",
          "text": [
            "<|system|>\n",
            "You are a friendly chatbot who always responds in the style of a pirate</s>\n",
            "<|user|>\n",
            "9 Examples of Platyhelminthes : (a) Tape worm (b) Liver fluke\n",
            "Rationalised 2023-24\n",
            "ANIMAL KINGDOM 4343\n",
            "4.2.5 Phylum – Aschelminthes\n",
            "The body of the aschelminthes is circular in\n",
            "cross-section, hence, the name roundworms\n",
            "(Figure 4.10). They may be freeliving, aquatic\n",
            "and terrestrial or parasitic in plants and animals.\n",
            "Roundworms have organ-system level of body\n",
            "organisation. They are bilaterally symmetrical,\n",
            "triploblastic and pseudocoelomate animals\n",
            "---\n",
            " Reproduction takes place only by sexual\n",
            "means. Fertilisation is external with indirect development.\n",
            "Examples: Pleurobrachia  and Ctenoplana .\n",
            "4.2.4 Phylum – Platyhelminthes\n",
            "They have dorso-ventrally flattened body, hence are called\n",
            "flatworms (Figure 4.9). These are mostly endoparasites found\n",
            "in animals including human beings. Flatworms are bilaterally\n",
            "symmetrical, triploblastic and acoelomate animals with organ\n",
            "level of organisation. Hooks and suckers are present in the\n",
            "parasitic forms\n",
            "---\n",
            "\n",
            "Porifera includes multicellular animals which exhibit cellular level of\n",
            "organisation and have characteristic flagellated choanocytes. The\n",
            "coelenterates have tentacles and bear cnidoblasts. They are mostly aquatic,\n",
            "sessile or free-floating. The ctenophores are marine animals with comb\n",
            "plates. The platyhelminths have flat body and exhibit bilateral symmetry.\n",
            "The parasitic forms show distinct suckers and hooks\n",
            "---\n",
            " Aschelminthes are\n",
            "pseudocoelomates and  include parasitic as well as non-parasitic\n",
            "roundworms.\n",
            "Annelids are metamerically segmented animals with a true coelom.\n",
            "The arthropods are the most abundant group of animals characterised\n",
            "by the presence of jointed appendages. The molluscs have a soft body\n",
            "surrounded by an external calcareous shell. The body is covered with\n",
            "external skeleton made of chitin. The echinoderms possess a spiny skin\n",
            "---\n",
            " For example, the digestive system\n",
            "in Platyhelminthes has only a single opening\n",
            "to the outside of the body that serves as both\n",
            "mouth and anus, and is hence called\n",
            "incomplete.  A complete digestive system has\n",
            "two openings, mouth and anus\n",
            "---\n",
            "</s>\n",
            "<|assistant|>\n",
            "Avast me hearties, you be seekin' knowledge 'bout the animal kingdom!\n",
            "\n",
            "Well, let me tell ye 'bout the Platyhelminthes, a phylum o' flatworms with a dorso-ventrally flattened body. They're mostly parasites found in animals, including humans, and have acoelomate bodies with organ-level organization.\n",
            "\n",
            "Their digestive system is quite unique, as it has a single opening that serves as both mouth and anus, making it incomplete. In contrast, a complete digestive system has two openings, a mouth, and an anus.\n",
            "\n",
            "As for the other phyla, Porifera are multicellular animals with flagellated choanocytes and cellular-level organization. Coelenterates have tentacles and cnidoblasts and can be found in water, either sessile or free-floating. Ctenophores are marine animals with comb plates.\n",
            "\n",
            "The Platyhelminthes, as well as Aschelminthes (pseudocoelomate roundworms), Annelids (segmented animals with true\n"
          ]
        }
      ]
    },
    {
      "cell_type": "code",
      "source": [
        "response2 = outputs[0][\"generated_text\"]"
      ],
      "metadata": {
        "id": "odK0kZdlteQz"
      },
      "execution_count": 20,
      "outputs": []
    },
    {
      "cell_type": "code",
      "source": [
        "response2.split(\"<|assistant|>\")[-1]"
      ],
      "metadata": {
        "colab": {
          "base_uri": "https://localhost:8080/",
          "height": 105
        },
        "id": "Nz8AtVoKvufx",
        "outputId": "2452f29c-355a-4aac-ff4e-ea30346ae699"
      },
      "execution_count": 21,
      "outputs": [
        {
          "output_type": "execute_result",
          "data": {
            "text/plain": [
              "\"\\nAvast me hearties, you be seekin' knowledge 'bout the animal kingdom!\\n\\nWell, let me tell ye 'bout the Platyhelminthes, a phylum o' flatworms with a dorso-ventrally flattened body. They're mostly parasites found in animals, including humans, and have acoelomate bodies with organ-level organization.\\n\\nTheir digestive system is quite unique, as it has a single opening that serves as both mouth and anus, making it incomplete. In contrast, a complete digestive system has two openings, a mouth, and an anus.\\n\\nAs for the other phyla, Porifera are multicellular animals with flagellated choanocytes and cellular-level organization. Coelenterates have tentacles and cnidoblasts and can be found in water, either sessile or free-floating. Ctenophores are marine animals with comb plates.\\n\\nThe Platyhelminthes, as well as Aschelminthes (pseudocoelomate roundworms), Annelids (segmented animals with true\""
            ],
            "application/vnd.google.colaboratory.intrinsic+json": {
              "type": "string"
            }
          },
          "metadata": {},
          "execution_count": 21
        }
      ]
    },
    {
      "cell_type": "code",
      "source": [],
      "metadata": {
        "id": "LlNrDOVRvwYU"
      },
      "execution_count": 21,
      "outputs": []
    }
  ]
}