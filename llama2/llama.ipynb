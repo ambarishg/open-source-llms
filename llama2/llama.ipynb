{
 "cells": [
  {
   "cell_type": "code",
   "execution_count": 1,
   "metadata": {},
   "outputs": [],
   "source": [
    "import warnings\n",
    "warnings.filterwarnings('ignore')"
   ]
  },
  {
   "cell_type": "code",
   "execution_count": 2,
   "metadata": {},
   "outputs": [
    {
     "name": "stdout",
     "output_type": "stream",
     "text": [
      "(' be a major factor in the future of work, and it’s important for businesses '\n",
      " 'to start thinking about how they can use AI to improve their operations and '\n",
      " 'drive growth. nobody has crystal clear sight on just what the future of work '\n",
      " 'will look like, but there are a number of trends that are likely to shape '\n",
      " 'the way we work in the years ahead. Here are some of the key trends that '\n",
      " 'businesses should be aware of:\\n'\n",
      " '1. Automation and Robotics – As AI technologies become more advanced, '\n",
      " 'they’ll increasingly be used to automate routine tasks such as data entry '\n",
      " 'and customer service, freeing up human workers to focus on more complex and '\n",
      " 'creative work. This could lead to increased productivity and efficiency, but '\n",
      " 'it also raises questions about job displacement and the need for workers to '\n",
      " 'acquire new skills.\\n'\n",
      " '2. Remote Work – With advances in communication technology, remote work is '\n",
      " 'becoming increasingly common. This trend is likely to continue as more '\n",
      " 'businesses adopt flexible working arrangements and employees become more '\n",
      " 'comfortable with the idea of working from home or on the go.\\n'\n",
      " '3. Virtual Reality and Augmented Reality – As VR and AR technologies '\n",
      " 'improve, they’ll')\n"
     ]
    }
   ],
   "source": [
    "from ctransformers import AutoModelForCausalLM\n",
    "from pprint import pprint\n",
    "\n",
    "llm = AutoModelForCausalLM.from_pretrained('llama-2-7b-chat.ggmlv3.q4_0.bin',\n",
    "                                            model_type='llama')\n",
    "\n",
    "pprint(llm('AI is going to'))"
   ]
  },
  {
   "cell_type": "code",
   "execution_count": 3,
   "metadata": {},
   "outputs": [
    {
     "data": {
      "text/plain": [
       "Config(top_k=40, top_p=0.95, temperature=0.8, repetition_penalty=1.1, last_n_tokens=64, seed=-1, batch_size=8, threads=-1, max_new_tokens=256, stop=None, stream=False, reset=True, context_length=-1, gpu_layers=0)"
      ]
     },
     "execution_count": 3,
     "metadata": {},
     "output_type": "execute_result"
    }
   ],
   "source": [
    "llm.config"
   ]
  },
  {
   "cell_type": "code",
   "execution_count": 4,
   "metadata": {},
   "outputs": [],
   "source": [
    "context = \"\"\"\n",
    "The men's high jump event at the 2020 Summer Olympics took place between 30 July and 1 August 2021 at the Olympic Stadium.\n",
    "33 athletes from 24 nations competed; the total possible number depended on how many nations would use universality places\n",
    "to enter athletes in addition to the 32 qualifying through mark or ranking (no universality places were used in 2021).\n",
    "Italian athlete Gianmarco Tamberi along with Qatari athlete Mutaz Essa Barshim emerged as joint winners of the event following\n",
    "a tie between both of them as they cleared 2.37m. Both Tamberi and Barshim agreed to share the gold medal in a rare instance\n",
    "where the athletes of different nations had agreed to share the same medal in the history of Olympics.\n",
    "Barshim in particular was heard to ask a competition official \"Can we have two golds?\" in response to being offered a\n",
    "'jump off'. Maksim Nedasekau of Belarus took bronze. The medals were the first ever in the men's high jump for Italy and\n",
    "Belarus, the first gold in the men's high jump for Italy and Qatar, and the third consecutive medal in the men's high jump\n",
    "for Qatar (all by Barshim). Barshim became only the second man to earn three medals in high jump, joining Patrik Sjöberg\n",
    "of Sweden (1984 to 1992).\"\"\"\n",
    "\n",
    "query = \"Who won the gold in 2020 Summer Olympics men's high jump?\"\n",
    "# query = \"Who won the bronze in 2020 Summer Olympics men's high jump?\"\n",
    "# query = \"Who won the silver in 2020 Summer Olympics men's high jump?\"\n",
    "# query = \"How many persons participated in high jump 2020 Summer Olympics men's high jump?\""
   ]
  },
  {
   "cell_type": "code",
   "execution_count": 5,
   "metadata": {},
   "outputs": [
    {
     "name": "stdout",
     "output_type": "stream",
     "text": [
      "('Answer based on context:\\n'\n",
      " '\\n'\n",
      " '\\n'\n",
      " \"The men's high jump event at the 2020 Summer Olympics took place between 30 \"\n",
      " 'July and 1 August 2021 at the Olympic Stadium.\\n'\n",
      " '33 athletes from 24 nations competed; the total possible number depended on '\n",
      " 'how many nations would use universality places\\n'\n",
      " 'to enter athletes in addition to the 32 qualifying through mark or ranking '\n",
      " '(no universality places were used in 2021).\\n'\n",
      " 'Italian athlete Gianmarco Tamberi along with Qatari athlete Mutaz Essa '\n",
      " 'Barshim emerged as joint winners of the event following\\n'\n",
      " 'a tie between both of them as they cleared 2.37m. Both Tamberi and Barshim '\n",
      " 'agreed to share the gold medal in a rare instance\\n'\n",
      " 'where the athletes of different nations had agreed to share the same medal '\n",
      " 'in the history of Olympics.\\n'\n",
      " 'Barshim in particular was heard to ask a competition official \"Can we have '\n",
      " 'two golds?\" in response to being offered a\\n'\n",
      " \"'jump off'. Maksim Nedasekau of Belarus took bronze. The medals were the \"\n",
      " \"first ever in the men's high jump for Italy and\\n\"\n",
      " \"Belarus, the first gold in the men's high jump for Italy and Qatar, and the \"\n",
      " \"third consecutive medal in the men's high jump\\n\"\n",
      " 'for Qatar (all by Barshim). Barshim became only the second man to earn three '\n",
      " 'medals in high jump, joining Patrik Sjöberg\\n'\n",
      " 'of Sweden (1984 to 1992).\\n'\n",
      " '\\n'\n",
      " \"Who won the gold in 2020 Summer Olympics men's high jump?\")\n"
     ]
    }
   ],
   "source": [
    "prompt = f\"\"\"Answer based on context:\\n\\n{context}\\n\\n{query}\"\"\"\n",
    "pprint(prompt)"
   ]
  },
  {
   "cell_type": "code",
   "execution_count": 6,
   "metadata": {},
   "outputs": [
    {
     "name": "stdout",
     "output_type": "stream",
     "text": [
      "'\\nAnswer: Gianmarco Tamberi and Mutaz Essa Barshim.'\n",
      "CPU times: user 2min 34s, sys: 4.11 ms, total: 2min 34s\n",
      "Wall time: 38.7 s\n"
     ]
    }
   ],
   "source": [
    "%%time\n",
    "pprint(llm(prompt = prompt,temperature=0.1,max_new_tokens=1024))"
   ]
  }
 ],
 "metadata": {
  "kernelspec": {
   "display_name": "env",
   "language": "python",
   "name": "python3"
  },
  "language_info": {
   "codemirror_mode": {
    "name": "ipython",
    "version": 3
   },
   "file_extension": ".py",
   "mimetype": "text/x-python",
   "name": "python",
   "nbconvert_exporter": "python",
   "pygments_lexer": "ipython3",
   "version": "3.8.10"
  },
  "orig_nbformat": 4
 },
 "nbformat": 4,
 "nbformat_minor": 2
}
